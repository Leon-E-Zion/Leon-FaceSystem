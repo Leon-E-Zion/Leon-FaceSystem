{
 "cells": [
  {
   "cell_type": "markdown",
   "id": "3f707b4b",
   "metadata": {},
   "source": [
    "# 导入检测函数"
   ]
  },
  {
   "cell_type": "code",
   "execution_count": 1,
   "id": "2ea2ca79",
   "metadata": {
    "scrolled": false
   },
   "outputs": [
    {
     "name": "stderr",
     "output_type": "stream",
     "text": [
      "C:\\Users\\leonz\\.conda\\envs\\Leon_Deep\\lib\\site-packages\\tqdm\\auto.py:22: TqdmWarning: IProgress not found. Please update jupyter and ipywidgets. See https://ipywidgets.readthedocs.io/en/stable/user_install.html\n",
      "  from .autonotebook import tqdm as notebook_tqdm\n"
     ]
    },
    {
     "name": "stdout",
     "output_type": "stream",
     "text": [
      "D:\\Leon-Coding\\Leon-FaceSystem\\\n"
     ]
    }
   ],
   "source": [
    "from leon_pre import *\n",
    "import os\n",
    "import json\n",
    "from flask import jsonify\n",
    "import io"
   ]
  },
  {
   "cell_type": "markdown",
   "id": "f2b97faf",
   "metadata": {},
   "source": [
    "# url 请求生成"
   ]
  },
  {
   "cell_type": "code",
   "execution_count": 3,
   "id": "de7c5e4c",
   "metadata": {},
   "outputs": [],
   "source": [
    "from flask import Flask, request\n",
    "import numpy as np\n",
    "import os\n",
    "from PIL import Image\n",
    "app = Flask(__name__)"
   ]
  },
  {
   "cell_type": "markdown",
   "id": "8e836c1f",
   "metadata": {},
   "source": [
    "## 接收新用户注册数据"
   ]
  },
  {
   "cell_type": "code",
   "execution_count": 5,
   "id": "6112f808",
   "metadata": {},
   "outputs": [],
   "source": [
    "# app.debug = True\n",
    "# 安卓端访问此处后端，后端通过requests请求获取注册传递数据\n",
    "# 访问请求 {'name':'Leon','img':img_file}\n",
    "@app.route('/register', methods=[\"POST\"])\n",
    "def register_insert():\n",
    "    # 获取用户姓名\n",
    "    upload_file = request.files['file']\n",
    "    byte_stream = io.BytesIO(upload_file.read())  \n",
    "    img = Image.open(byte_stream) \n",
    "    name = request.values.get(\"name\")\n",
    "    num =  request.values.get(\"num\")\n",
    "    print(num)\n",
    "    # 文件存储 - 此处注意传输过程中图像选用流式传输，基于二进制形式实现\n",
    "    try:\n",
    "        os.mkdirs(os.path.join(os.getcwd(),'face_dataset'))\n",
    "    except:\n",
    "        pass\n",
    "    img.save(os.path.join(os.getcwd(),'face_dataset','{}_{}.jpg'.format(name,num)))\n",
    "    respose = {\n",
    "        \"opt_return\": 'image saved'\n",
    "    }\n",
    "    return respose"
   ]
  },
  {
   "cell_type": "markdown",
   "id": "8efe50a6",
   "metadata": {},
   "source": [
    "## 数据初始化 \n",
    "- embedding\n",
    "- 每次批量录入人脸后需要执行，对以路人的所有数据编码与载入"
   ]
  },
  {
   "cell_type": "code",
   "execution_count": 4,
   "id": "48319b4a",
   "metadata": {},
   "outputs": [],
   "source": [
    "def embedding():\n",
    "    path = os.path.join(os.getcwd(),'encoding.py')\n",
    "    os.system('python {}'.format(path))\n",
    "    \n",
    "    \n",
    "@app.route('/embedding')\n",
    "def embedding_in():\n",
    "    embedding()\n",
    "    respose = {\n",
    "        \"opt_return\": 'embedded'\n",
    "    }\n",
    "    return respose"
   ]
  },
  {
   "cell_type": "markdown",
   "id": "38f7c2d4",
   "metadata": {},
   "source": [
    "## 人脸判断\n",
    "在人脸判断前先对已有数据进行编码与存储"
   ]
  },
  {
   "cell_type": "code",
   "execution_count": 6,
   "id": "f1edbf6c",
   "metadata": {},
   "outputs": [
    {
     "name": "stdout",
     "output_type": "stream",
     "text": [
      "Loading weights into state dict...\n",
      "Finished!\n"
     ]
    }
   ],
   "source": [
    "import base64\n",
    "from flask import request\n",
    "from flask import Flask,jsonify\n",
    "import os\n",
    "\n",
    "net = get_model()\n",
    "# 定义路由\n",
    "@app.route(\"/a\", methods=['POST'])\n",
    "def get_frame():\n",
    "    # 接收图片\n",
    "    upload_file = request.files['file']\n",
    "    img = upload_file.read()\n",
    "    byte_stream = io.BytesIO(img)  \n",
    "    img = Image.open(byte_stream) \n",
    "    img.save(os.path.join(os.getcwd(),'tmp_1.jpg'))\n",
    "    # 检测用户\n",
    "    output = get_role(net,os.path.join(os.getcwd(),'tmp_1.jpg'))\n",
    "    respose = {\n",
    "        \"urls\": str(output['output_name'])\n",
    "    }\n",
    "    return jsonify(respose)\n",
    "\n"
   ]
  },
  {
   "cell_type": "markdown",
   "id": "d58aaf60",
   "metadata": {},
   "source": [
    "# 连接测试"
   ]
  },
  {
   "cell_type": "code",
   "execution_count": null,
   "id": "a0dc0604",
   "metadata": {},
   "outputs": [],
   "source": [
    "from flask import jsonify\n",
    "@app.route('/e', methods=['POST'])\n",
    "def eg():\n",
    "    respose = {\n",
    "        \"code\": 200,\n",
    "        \"urls\": 1234\n",
    "    }\n",
    "    return jsonify(respose)"
   ]
  },
  {
   "cell_type": "markdown",
   "id": "dcc0f103",
   "metadata": {},
   "source": [
    "## 执行操作"
   ]
  },
  {
   "cell_type": "code",
   "execution_count": null,
   "id": "b6e28013",
   "metadata": {
    "scrolled": true
   },
   "outputs": [
    {
     "name": "stdout",
     "output_type": "stream",
     "text": [
      " * Serving Flask app '__main__'\n",
      " * Debug mode: off\n"
     ]
    },
    {
     "name": "stderr",
     "output_type": "stream",
     "text": [
      "WARNING: This is a development server. Do not use it in a production deployment. Use a production WSGI server instead.\n",
      " * Running on http://127.0.0.1:5000\n",
      "Press CTRL+C to quit\n"
     ]
    },
    {
     "name": "stdout",
     "output_type": "stream",
     "text": [
      "embedded\n"
     ]
    },
    {
     "name": "stderr",
     "output_type": "stream",
     "text": [
      "[2022-10-08 18:28:06,170] ERROR in app: Exception on /embedding [GET]\n",
      "Traceback (most recent call last):\n",
      "  File \"C:\\Users\\leonz\\.conda\\envs\\Leon_Deep\\lib\\site-packages\\flask\\app.py\", line 2525, in wsgi_app\n",
      "    response = self.full_dispatch_request()\n",
      "  File \"C:\\Users\\leonz\\.conda\\envs\\Leon_Deep\\lib\\site-packages\\flask\\app.py\", line 1823, in full_dispatch_request\n",
      "    return self.finalize_request(rv)\n",
      "  File \"C:\\Users\\leonz\\.conda\\envs\\Leon_Deep\\lib\\site-packages\\flask\\app.py\", line 1842, in finalize_request\n",
      "    response = self.make_response(rv)\n",
      "  File \"C:\\Users\\leonz\\.conda\\envs\\Leon_Deep\\lib\\site-packages\\flask\\app.py\", line 2135, in make_response\n",
      "    f\"The view function for {request.endpoint!r} did not\"\n",
      "TypeError: The view function for 'embedding_in' did not return a valid response. The function either returned None or ended without a return statement.\n",
      "127.0.0.1 - - [08/Oct/2022 18:28:06] \"GET /embedding HTTP/1.1\" 500 -\n"
     ]
    },
    {
     "name": "stdout",
     "output_type": "stream",
     "text": [
      "embedded\n"
     ]
    },
    {
     "name": "stderr",
     "output_type": "stream",
     "text": [
      "[2022-10-08 18:28:13,417] ERROR in app: Exception on /embedding [GET]\n",
      "Traceback (most recent call last):\n",
      "  File \"C:\\Users\\leonz\\.conda\\envs\\Leon_Deep\\lib\\site-packages\\flask\\app.py\", line 2525, in wsgi_app\n",
      "    response = self.full_dispatch_request()\n",
      "  File \"C:\\Users\\leonz\\.conda\\envs\\Leon_Deep\\lib\\site-packages\\flask\\app.py\", line 1823, in full_dispatch_request\n",
      "    return self.finalize_request(rv)\n",
      "  File \"C:\\Users\\leonz\\.conda\\envs\\Leon_Deep\\lib\\site-packages\\flask\\app.py\", line 1842, in finalize_request\n",
      "    response = self.make_response(rv)\n",
      "  File \"C:\\Users\\leonz\\.conda\\envs\\Leon_Deep\\lib\\site-packages\\flask\\app.py\", line 2135, in make_response\n",
      "    f\"The view function for {request.endpoint!r} did not\"\n",
      "TypeError: The view function for 'embedding_in' did not return a valid response. The function either returned None or ended without a return statement.\n",
      "127.0.0.1 - - [08/Oct/2022 18:28:13] \"GET /embedding HTTP/1.1\" 500 -\n"
     ]
    }
   ],
   "source": [
    "if __name__ == '__main__':\n",
    "    app.run(host='0.0.0.0')"
   ]
  }
 ],
 "metadata": {
  "kernelspec": {
   "display_name": "Leon_DeepStation",
   "language": "python",
   "name": "leon_deepstation"
  },
  "language_info": {
   "codemirror_mode": {
    "name": "ipython",
    "version": 3
   },
   "file_extension": ".py",
   "mimetype": "text/x-python",
   "name": "python",
   "nbconvert_exporter": "python",
   "pygments_lexer": "ipython3",
   "version": "3.7.5"
  },
  "toc": {
   "base_numbering": 1,
   "nav_menu": {},
   "number_sections": true,
   "sideBar": true,
   "skip_h1_title": false,
   "title_cell": "Table of Contents",
   "title_sidebar": "Contents",
   "toc_cell": false,
   "toc_position": {},
   "toc_section_display": true,
   "toc_window_display": false
  },
  "varInspector": {
   "cols": {
    "lenName": 16,
    "lenType": 16,
    "lenVar": 40
   },
   "kernels_config": {
    "python": {
     "delete_cmd_postfix": "",
     "delete_cmd_prefix": "del ",
     "library": "var_list.py",
     "varRefreshCmd": "print(var_dic_list())"
    },
    "r": {
     "delete_cmd_postfix": ") ",
     "delete_cmd_prefix": "rm(",
     "library": "var_list.r",
     "varRefreshCmd": "cat(var_dic_list()) "
    }
   },
   "types_to_exclude": [
    "module",
    "function",
    "builtin_function_or_method",
    "instance",
    "_Feature"
   ],
   "window_display": true
  }
 },
 "nbformat": 4,
 "nbformat_minor": 5
}
