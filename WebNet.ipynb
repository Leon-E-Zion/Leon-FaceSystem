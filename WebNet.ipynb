{
 "cells": [
  {
   "cell_type": "markdown",
   "id": "98ec36f7",
   "metadata": {},
   "source": [
    "# 导入录入函数"
   ]
  },
  {
   "cell_type": "code",
   "execution_count": 1,
   "id": "2775ed9c",
   "metadata": {},
   "outputs": [],
   "source": [
    "# - 直接运行编码文件即可\n",
    "# - 相关函数会去对文件夹下的指定函数进行编码"
   ]
  },
  {
   "cell_type": "markdown",
   "id": "3f707b4b",
   "metadata": {},
   "source": [
    "# 导入检测函数"
   ]
  },
  {
   "cell_type": "code",
   "execution_count": 1,
   "id": "2ea2ca79",
   "metadata": {
    "scrolled": false
   },
   "outputs": [
    {
     "name": "stderr",
     "output_type": "stream",
     "text": [
      "C:\\Users\\leonz\\.conda\\envs\\Leon_Deep\\lib\\site-packages\\tqdm\\auto.py:22: TqdmWarning: IProgress not found. Please update jupyter and ipywidgets. See https://ipywidgets.readthedocs.io/en/stable/user_install.html\n",
      "  from .autonotebook import tqdm as notebook_tqdm\n"
     ]
    },
    {
     "name": "stdout",
     "output_type": "stream",
     "text": [
      "D:\\Leon-Coding\\Leon-FaceSystem\\\n"
     ]
    }
   ],
   "source": [
    "from leon_pre import *\n",
    "import os"
   ]
  },
  {
   "cell_type": "markdown",
   "id": "f2b97faf",
   "metadata": {},
   "source": [
    "# url 请求生成"
   ]
  },
  {
   "cell_type": "code",
   "execution_count": 3,
   "id": "de7c5e4c",
   "metadata": {},
   "outputs": [],
   "source": [
    "from flask import Flask, request\n",
    "import numpy as np\n",
    "import os\n",
    "from PIL import Image\n",
    "app = Flask(__name__)"
   ]
  },
  {
   "cell_type": "markdown",
   "id": "8efe50a6",
   "metadata": {},
   "source": [
    "## 数据初始化 \n",
    "- embedding\n",
    "- 每次批量录入人脸后需要执行，对以路人的所有数据编码与载入"
   ]
  },
  {
   "cell_type": "code",
   "execution_count": 4,
   "id": "48319b4a",
   "metadata": {},
   "outputs": [],
   "source": [
    "def embedding():\n",
    "    path = os.path.join(os.getcwd(),'encoding.py')\n",
    "    os.system('python {}'.format(path))\n",
    "    \n",
    "    \n",
    "@app.route('/embedding')\n",
    "def embedding_in():\n",
    "    embedding()\n",
    "    return 'embedded'"
   ]
  },
  {
   "cell_type": "markdown",
   "id": "8e836c1f",
   "metadata": {},
   "source": [
    "## 接收新用户注册数据"
   ]
  },
  {
   "cell_type": "code",
   "execution_count": 5,
   "id": "6112f808",
   "metadata": {},
   "outputs": [],
   "source": [
    "\n",
    "# app.debug = True\n",
    "# 安卓端访问此处后端，后端通过requests请求获取注册传递数据\n",
    "# 访问请求 {'name':'Leon','img':img_file}\n",
    "@app.route('/register', methods=[\"POST\"])\n",
    "def register_insert():\n",
    "    # 获取用户姓名\n",
    "    name = request.values.get(\"name\")\n",
    "    num =  request.values.get(\"num\")\n",
    "    print(num)\n",
    "    # 获取用户图像\n",
    "    img = request.files.get('img')\n",
    "    print(img)\n",
    "    # 文件存储 - 此处注意传输过程中图像选用流式传输，基于二进制形式实现\n",
    "    img.save(os.path.join(r'D:\\Leon-Coding\\Leon-FaceSystem\\face_dataset','{}_{}.jpg'.format(name,num)))\n",
    "    embedding()\n",
    "    return 0"
   ]
  },
  {
   "cell_type": "markdown",
   "id": "38f7c2d4",
   "metadata": {},
   "source": [
    "## 人脸判断\n",
    "在人脸判断前先对已有数据进行编码与存储"
   ]
  },
  {
   "cell_type": "code",
   "execution_count": 6,
   "id": "f1edbf6c",
   "metadata": {},
   "outputs": [
    {
     "name": "stdout",
     "output_type": "stream",
     "text": [
      "Loading weights into state dict...\n",
      "Finished!\n"
     ]
    }
   ],
   "source": [
    "# app.debug = True\n",
    "# 安卓端访问此处后端，后端通过requests请求获取注册传递数据\n",
    "# 访问请求 {'name':'Leon','img':img_file}\n",
    "net = get_model()\n",
    "@app.route('/take_in', methods=[\"POST\"])\n",
    "def take_in():\n",
    "    # 获取用户图像\n",
    "    img = request.files.get('img')\n",
    "    img.save('tmp.jpg')\n",
    "    # 检测用户\n",
    "    output = get_role(net,'tmp.jpg')\n",
    "    return '<h1>{}</h1>'.format(output['output_name'])\n",
    "\n"
   ]
  },
  {
   "cell_type": "markdown",
   "id": "dcc0f103",
   "metadata": {},
   "source": [
    "## 执行操作"
   ]
  },
  {
   "cell_type": "code",
   "execution_count": null,
   "id": "b6e28013",
   "metadata": {
    "scrolled": true
   },
   "outputs": [
    {
     "name": "stdout",
     "output_type": "stream",
     "text": [
      " * Serving Flask app '__main__'\n",
      " * Debug mode: off\n"
     ]
    },
    {
     "name": "stderr",
     "output_type": "stream",
     "text": [
      "WARNING: This is a development server. Do not use it in a production deployment. Use a production WSGI server instead.\n",
      " * Running on http://127.0.0.1:5000\n",
      "Press CTRL+C to quit\n"
     ]
    },
    {
     "name": "stdout",
     "output_type": "stream",
     "text": [
      "embedded\n"
     ]
    },
    {
     "name": "stderr",
     "output_type": "stream",
     "text": [
      "[2022-10-08 18:28:06,170] ERROR in app: Exception on /embedding [GET]\n",
      "Traceback (most recent call last):\n",
      "  File \"C:\\Users\\leonz\\.conda\\envs\\Leon_Deep\\lib\\site-packages\\flask\\app.py\", line 2525, in wsgi_app\n",
      "    response = self.full_dispatch_request()\n",
      "  File \"C:\\Users\\leonz\\.conda\\envs\\Leon_Deep\\lib\\site-packages\\flask\\app.py\", line 1823, in full_dispatch_request\n",
      "    return self.finalize_request(rv)\n",
      "  File \"C:\\Users\\leonz\\.conda\\envs\\Leon_Deep\\lib\\site-packages\\flask\\app.py\", line 1842, in finalize_request\n",
      "    response = self.make_response(rv)\n",
      "  File \"C:\\Users\\leonz\\.conda\\envs\\Leon_Deep\\lib\\site-packages\\flask\\app.py\", line 2135, in make_response\n",
      "    f\"The view function for {request.endpoint!r} did not\"\n",
      "TypeError: The view function for 'embedding_in' did not return a valid response. The function either returned None or ended without a return statement.\n",
      "127.0.0.1 - - [08/Oct/2022 18:28:06] \"GET /embedding HTTP/1.1\" 500 -\n"
     ]
    },
    {
     "name": "stdout",
     "output_type": "stream",
     "text": [
      "embedded\n"
     ]
    },
    {
     "name": "stderr",
     "output_type": "stream",
     "text": [
      "[2022-10-08 18:28:13,417] ERROR in app: Exception on /embedding [GET]\n",
      "Traceback (most recent call last):\n",
      "  File \"C:\\Users\\leonz\\.conda\\envs\\Leon_Deep\\lib\\site-packages\\flask\\app.py\", line 2525, in wsgi_app\n",
      "    response = self.full_dispatch_request()\n",
      "  File \"C:\\Users\\leonz\\.conda\\envs\\Leon_Deep\\lib\\site-packages\\flask\\app.py\", line 1823, in full_dispatch_request\n",
      "    return self.finalize_request(rv)\n",
      "  File \"C:\\Users\\leonz\\.conda\\envs\\Leon_Deep\\lib\\site-packages\\flask\\app.py\", line 1842, in finalize_request\n",
      "    response = self.make_response(rv)\n",
      "  File \"C:\\Users\\leonz\\.conda\\envs\\Leon_Deep\\lib\\site-packages\\flask\\app.py\", line 2135, in make_response\n",
      "    f\"The view function for {request.endpoint!r} did not\"\n",
      "TypeError: The view function for 'embedding_in' did not return a valid response. The function either returned None or ended without a return statement.\n",
      "127.0.0.1 - - [08/Oct/2022 18:28:13] \"GET /embedding HTTP/1.1\" 500 -\n"
     ]
    }
   ],
   "source": [
    "if __name__ == '__main__':\n",
    "    app.run()"
   ]
  }
 ],
 "metadata": {
  "kernelspec": {
   "display_name": "Leon_env",
   "language": "python",
   "name": "leon_env"
  },
  "language_info": {
   "codemirror_mode": {
    "name": "ipython",
    "version": 3
   },
   "file_extension": ".py",
   "mimetype": "text/x-python",
   "name": "python",
   "nbconvert_exporter": "python",
   "pygments_lexer": "ipython3",
   "version": "3.7.5"
  },
  "toc": {
   "base_numbering": 1,
   "nav_menu": {},
   "number_sections": true,
   "sideBar": true,
   "skip_h1_title": false,
   "title_cell": "Table of Contents",
   "title_sidebar": "Contents",
   "toc_cell": false,
   "toc_position": {},
   "toc_section_display": true,
   "toc_window_display": false
  }
 },
 "nbformat": 4,
 "nbformat_minor": 5
}
